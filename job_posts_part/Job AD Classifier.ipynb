{
 "cells": [
  {
   "cell_type": "code",
   "execution_count": 1,
   "id": "8c680b6b-fa9f-4efa-b515-8935b05096f4",
   "metadata": {},
   "outputs": [],
   "source": [
    "import time, random, re\n",
    "import pandas as pd\n",
    "import requests\n",
    "from bs4 import BeautifulSoup\n",
    "from urllib.parse import urljoin\n",
    "from tenacity import retry, stop_after_attempt, wait_exponential"
   ]
  },
  {
   "cell_type": "code",
   "execution_count": 2,
   "id": "c83da6f5-7f6a-483b-9bd7-858d93af381d",
   "metadata": {},
   "outputs": [],
   "source": [
    "# إعدادات عامة\n",
    "\n",
    "BASE_HEADERS = {\n",
    "    \"User-Agent\": (\n",
    "        \"Mozilla/5.0 (X11; Linux x86_64) AppleWebKit/537.36 \"\n",
    "        \"(KHTML, like Gecko) Chrome/126.0 Safari/537.36\"\n",
    "    )\n",
    "}\n",
    "\n",
    "# صفحات البحث (أول صفحة لكل تصنيف)\n",
    "# ملاحظة: أقدر أعدل القيم أو أضيف تصنيفات جديدة لاحقاً\n",
    "CATEGORIES = {\n",
    "    \"IT\": \"https://www.wadhefa.com/jobfind.php?action=search&bx_jtitle=&rdjt=2&jids%5B%5D=75&jids%5B%5D=76&jids%5B%5D=84&lids%5B%5D=000&bx_prv%5B%5D=&bx_plng%5B%5D=0&bx_kwd=&rdKeyw=2&bx_minsalary=&bx_maxsalary=&bx_lngids%5B%5D=-&rdLang=2&tids%5B%5D=0&posted=0&o=1&o_show=3&cmdSearch=++%D8%A8%D8%AD%D8%AB++\",\n",
    "    \"Marketing\": \"https://www.wadhefa.com/jobfind.php?action=search&bx_jtitle=&rdjt=2&jids%5B%5D=72&jids%5B%5D=73&jids%5B%5D=74&lids%5B%5D=000&bx_prv%5B%5D=&bx_plng%5B%5D=0&bx_kwd=&rdKeyw=2&bx_minsalary=&bx_maxsalary=&bx_lngids%5B%5D=-&rdLang=2&tids%5B%5D=0&posted=0&o=1&o_show=3&cmdSearch=++%D8%A8%D8%AD%D8%AB++\",\n",
    "    \"Finance\": \"https://www.wadhefa.com/jobfind.php?action=search&bx_jtitle=&rdjt=2&jids%5B%5D=64&jids%5B%5D=77&jids%5B%5D=79&lids%5B%5D=000&bx_prv%5B%5D=&bx_plng%5B%5D=0&bx_kwd=&rdKeyw=2&bx_minsalary=&bx_maxsalary=&bx_lngids%5B%5D=-&rdLang=2&tids%5B%5D=0&posted=0&o=1&o_show=3&cmdSearch=++%D8%A8%D8%AD%D8%AB++\",\n",
    "    \"Engineering\": \"https://www.wadhefa.com/jobfind.php?action=search&bx_jtitle=&rdjt=2&jids%5B%5D=80&jids%5B%5D=81&jids%5B%5D=82&jids%5B%5D=83&jids%5B%5D=84&jids%5B%5D=85&lids%5B%5D=000&bx_prv%5B%5D=&bx_plng%5B%5D=0&bx_kwd=&rdKeyw=2&bx_minsalary=&bx_maxsalary=&bx_lngids%5B%5D=-&rdLang=2&tids%5B%5D=0&posted=0&o=1&o_show=3&cmdSearch=++%D8%A8%D8%AD%D8%AB++\",\n",
    "    \"Healthcare\": \"https://www.wadhefa.com/jobfind.php?action=search&bx_jtitle=&rdjt=2&jids%5B%5D=96&jids%5B%5D=97&jids%5B%5D=98&jids%5B%5D=99&lids%5B%5D=000&bx_prv%5B%5D=&bx_plng%5B%5D=0&bx_kwd=&rdKeyw=2&bx_minsalary=&bx_maxsalary=&bx_lngids%5B%5D=-&rdLang=2&tids%5B%5D=0&posted=0&o=1&o_show=3&cmdSearch=++%D8%A8%D8%AD%D8%AB++\",\n",
    "    \"Education\": \"https://www.wadhefa.com/jobfind.php?action=search&bx_jtitle=&rdjt=2&jids%5B%5D=67&lids%5B%5D=000&bx_prv%5B%5D=&bx_plng%5B%5D=0&bx_kwd=&rdKeyw=2&bx_minsalary=&bx_maxsalary=&bx_lngids%5B%5D=-&rdLang=2&tids%5B%5D=0&posted=0&o=1&o_show=3&cmdSearch=++%D8%A8%D8%AD%D8%AB++\",\n",
    "}\n",
    "\n",
    "# عدد الروابط المراد سحبها من الصفحة الأولى لكل تصنيف\n",
    "LINKS_PER_CATEGORY = 100  # أقدر أرفعها إلى 300"
   ]
  },
  {
   "cell_type": "code",
   "execution_count": 3,
   "id": "e30d7b94-89e8-4020-b79e-1d3baa9df661",
   "metadata": {},
   "outputs": [],
   "source": [
    "SELECTORS = {\n",
    "    \"listing_link\": 'a.tablelist[href*=\"/details/job/\"]',  # روابط الإعلانات في صفحة القوائم\n",
    "    \"next_link_candidates\": 'a[rel=\"next\"], a:contains(\"التالي\"), a:contains(\"الصفحة التالية\")'\n",
    "}\n",
    "\n",
    "DETAIL_SELECTORS = {\n",
    "    \"title\": \"td.view\",           # عنوان الإعلان\n",
    "    \"description\": \"td.td4textarea\"  # نص الوصف/المتطلبات\n",
    "}"
   ]
  },
  {
   "cell_type": "code",
   "execution_count": 4,
   "id": "ea65bd37-8ac1-4555-95a2-ad5b08314333",
   "metadata": {},
   "outputs": [],
   "source": [
    "# دوال مساعدة\n",
    "\n",
    "@retry(stop=stop_after_attempt(3), wait=wait_exponential(multiplier=1, min=1, max=8))\n",
    "def fetch(url: str) -> str:\n",
    "    \"\"\"جلب صفحة HTML مع إعادة محاولة تلقائية عند الفشل المؤقت.\"\"\"\n",
    "    resp = requests.get(url, headers=BASE_HEADERS, timeout=25)\n",
    "    resp.raise_for_status()\n",
    "    return resp.text\n",
    "\n",
    "def extract_links_from_list_page(list_url: str, limit: int = 300):\n",
    "    \"\"\"استخراج أول N روابط إعلانات من صفحة القوائم (بدون تنقل صفحات).\"\"\"\n",
    "    html = fetch(list_url)\n",
    "    soup = BeautifulSoup(html, \"lxml\")\n",
    "    links = []\n",
    "    for a in soup.select('a.tablelist[href*=\"/details/job/\"]'):\n",
    "        href = a.get(\"href\")\n",
    "        if href:\n",
    "            links.append(urljoin(list_url, href))\n",
    "        if len(links) >= limit:\n",
    "            break\n",
    "    # إزالة التكرارات مع الحفاظ على الترتيب\n",
    "    return list(dict.fromkeys(links))\n",
    "\n",
    "AR_DIACRITICS_RE = re.compile(r\"[\\u064B-\\u0652]\")\n",
    "\n",
    "def normalize_ar_keep_ascii(text: str) -> str:\n",
    "    \"\"\"تنظيف خفيف للنص العربي مع الإبقاء على ASCII للإيميلات/الأرقام.\"\"\"\n",
    "    if not text:\n",
    "        return \"\"\n",
    "    t = text.replace(\"\\u00A0\",\" \")\n",
    "    t = re.sub(r\"\\u0640\", \"\", t)                 # إزالة التطويل\n",
    "    t = AR_DIACRITICS_RE.sub(\"\", t)              # إزالة التشكيل\n",
    "    t = t.replace(\"أ\",\"ا\").replace(\"إ\",\"ا\").replace(\"آ\",\"ا\") \\\n",
    "         .replace(\"ى\",\"ي\").replace(\"ؤ\",\"و\").replace(\"ئ\",\"ي\")\n",
    "    t = re.sub(r\"[ \\t]+\", \" \", t).strip()\n",
    "    return t\n",
    "\n",
    "def excel_safe(s: str) -> str:\n",
    "    \"\"\"منع Excel من تفسير النص كمعادلة إذا بدأ بـ = أو + أو - أو @ أو Tab.\"\"\"\n",
    "    if not s:\n",
    "        return \"\"\n",
    "    if s[:1] in (\"=\", \"+\", \"-\", \"@\", \"\\t\"):\n",
    "        return \"'\" + s\n",
    "    return s"
   ]
  },
  {
   "cell_type": "code",
   "execution_count": 5,
   "id": "08db981d-5e67-4759-a566-b8a1218351b5",
   "metadata": {},
   "outputs": [],
   "source": [
    "# استخراج تفاصيل إعلان واحد (العنوان + الوصف)\n",
    "# ملاحظة مهمة: عنوان الوظيفة داخل td[width=\"30%\"] a.tablelist\n",
    "# والوصف داخل td.td4textarea\n",
    "\n",
    "def parse_job_detail(job_url: str, category_label: str):\n",
    "    html = fetch(job_url)\n",
    "    soup = BeautifulSoup(html, \"lxml\")\n",
    "\n",
    "    # العنوان\n",
    "    t_el = soup.select_one('td[width=\"30%\"] a.tablelist')\n",
    "    title_raw = t_el.get_text(\" \", strip=True) if t_el else \"\"\n",
    "    title = normalize_ar_keep_ascii(title_raw)\n",
    "\n",
    "    # الوصف\n",
    "    d_el = soup.select_one(\"td.td4textarea\")\n",
    "    desc_raw = d_el.get_text(\"\\n\", strip=True) if d_el else \"\"\n",
    "    description = normalize_ar_keep_ascii(desc_raw)\n",
    "\n",
    "    # حماية Excel\n",
    "    return {\n",
    "        \"category\": category_label,\n",
    "        \"title\": excel_safe(title),\n",
    "        \"description\": excel_safe(description),\n",
    "    }"
   ]
  },
  {
   "cell_type": "code",
   "execution_count": 6,
   "id": "dbb96469-70b2-48f5-b9dd-28dd71a11b0b",
   "metadata": {},
   "outputs": [
    {
     "name": "stdout",
     "output_type": "stream",
     "text": [
      "IT: استخرجت 100 رابط من الصفحة الأولى\n",
      "Marketing: استخرجت 100 رابط من الصفحة الأولى\n",
      "Finance: استخرجت 100 رابط من الصفحة الأولى\n",
      "Engineering: استخرجت 100 رابط من الصفحة الأولى\n",
      "Healthcare: استخرجت 100 رابط من الصفحة الأولى\n",
      "Education: استخرجت 100 رابط من الصفحة الأولى\n",
      "إجمالي السجلات: 577\n"
     ]
    },
    {
     "data": {
      "text/html": [
       "<div>\n",
       "<style scoped>\n",
       "    .dataframe tbody tr th:only-of-type {\n",
       "        vertical-align: middle;\n",
       "    }\n",
       "\n",
       "    .dataframe tbody tr th {\n",
       "        vertical-align: top;\n",
       "    }\n",
       "\n",
       "    .dataframe thead th {\n",
       "        text-align: right;\n",
       "    }\n",
       "</style>\n",
       "<table border=\"1\" class=\"dataframe\">\n",
       "  <thead>\n",
       "    <tr style=\"text-align: right;\">\n",
       "      <th></th>\n",
       "      <th>category</th>\n",
       "      <th>title</th>\n",
       "      <th>description</th>\n",
       "    </tr>\n",
       "  </thead>\n",
       "  <tbody>\n",
       "    <tr>\n",
       "      <th>0</th>\n",
       "      <td>IT</td>\n",
       "      <td></td>\n",
       "      <td>تعلن شركة تقنية معلومات عن توفر شاغر وظيفي بمس...</td>\n",
       "    </tr>\n",
       "    <tr>\n",
       "      <th>1</th>\n",
       "      <td>IT</td>\n",
       "      <td></td>\n",
       "      <td>'- تصميم الشبكات (LAN, WAN, WLAN)\\n- ادارة اجه...</td>\n",
       "    </tr>\n",
       "    <tr>\n",
       "      <th>2</th>\n",
       "      <td>IT</td>\n",
       "      <td></td>\n",
       "      <td>'- مطلوب رسام اوتوكاد للرسم وقراءة المخططات وح...</td>\n",
       "    </tr>\n",
       "    <tr>\n",
       "      <th>3</th>\n",
       "      <td>IT</td>\n",
       "      <td></td>\n",
       "      <td>الوصف الوظيفي:\\n- تطوير وبناء تطبيقات موبايل م...</td>\n",
       "    </tr>\n",
       "    <tr>\n",
       "      <th>4</th>\n",
       "      <td>IT</td>\n",
       "      <td></td>\n",
       "      <td>'- مطلوب مبرمج لديه خبرة في في Oracle APEX للع...</td>\n",
       "    </tr>\n",
       "  </tbody>\n",
       "</table>\n",
       "</div>"
      ],
      "text/plain": [
       "  category title                                        description\n",
       "0       IT        تعلن شركة تقنية معلومات عن توفر شاغر وظيفي بمس...\n",
       "1       IT        '- تصميم الشبكات (LAN, WAN, WLAN)\\n- ادارة اجه...\n",
       "2       IT        '- مطلوب رسام اوتوكاد للرسم وقراءة المخططات وح...\n",
       "3       IT        الوصف الوظيفي:\\n- تطوير وبناء تطبيقات موبايل م...\n",
       "4       IT        '- مطلوب مبرمج لديه خبرة في في Oracle APEX للع..."
      ]
     },
     "execution_count": 6,
     "metadata": {},
     "output_type": "execute_result"
    }
   ],
   "source": [
    "# سحب البيانات لكل التصنيفات وتجميعها في DataFrame واحد\n",
    "\n",
    "all_rows = []\n",
    "for label, list_url in CATEGORIES.items():\n",
    "    links = extract_links_from_list_page(list_url, limit=LINKS_PER_CATEGORY)\n",
    "    print(f\"{label}: استخرجت {len(links)} رابط من الصفحة الأولى\")\n",
    "    for u in links:\n",
    "        try:\n",
    "            row = parse_job_detail(u, category_label=label)\n",
    "            all_rows.append(row)\n",
    "            # تأخير لطيف لتجنب ضغط الموقع\n",
    "            time.sleep(random.uniform(0.6, 1.2))\n",
    "        except Exception as e:\n",
    "            print(\"فشل:\", u, e)\n",
    "\n",
    "df = pd.DataFrame(all_rows).drop_duplicates()\n",
    "print(\"إجمالي السجلات:\", len(df))\n",
    "df.head(5)"
   ]
  },
  {
   "cell_type": "code",
   "execution_count": 7,
   "id": "0466e1a1-efba-423e-859e-96dcb90a3d17",
   "metadata": {},
   "outputs": [
    {
     "name": "stdout",
     "output_type": "stream",
     "text": [
      "category\n",
      "Marketing      99\n",
      "IT             98\n",
      "Finance        97\n",
      "Engineering    95\n",
      "Education      95\n",
      "Healthcare     93\n",
      "Name: count, dtype: int64\n"
     ]
    }
   ],
   "source": [
    "# إحصائية سريعة: عدد السجلات لكل تصنيف (لضمان التوازن النسبي)\n",
    "counts = df[\"category\"].value_counts()\n",
    "print(counts)"
   ]
  },
  {
   "cell_type": "code",
   "execution_count": 8,
   "id": "c830b25a-03ab-40a2-85ac-6e7ede564b1e",
   "metadata": {},
   "outputs": [
    {
     "name": "stdout",
     "output_type": "stream",
     "text": [
      "تم الحفظ في wadhefa_dataset.csv\n"
     ]
    }
   ],
   "source": [
    "# الحفظ إلى CSV (ثلاث أعمدة فقط)\n",
    "# ملاحظة: لو الملف مفتوح في Excel راح يطلع PermissionError — غير الاسم أو أغلق Excel\n",
    "\n",
    "out_path = \"wadhefa_dataset.csv\"\n",
    "df.to_csv(out_path, index=False, encoding=\"utf-8-sig\")\n",
    "print(f\"تم الحفظ في {out_path}\")"
   ]
  },
  {
   "cell_type": "code",
   "execution_count": 9,
   "id": "6da3d424-9668-4fda-a94d-2108d5a375e6",
   "metadata": {},
   "outputs": [],
   "source": [
    "# ### (اختياري) تصحيح CSV قديم لو واجهت مشكلة #NAME? في Excel\n",
    "# هذا البلوك يصلّح عمود الوصف والعنوان بإضافة apostrophe لو بدأت بـ = أو + أو - أو @\n",
    "\n",
    "def fix_csv_for_excel(input_csv: str, output_csv: str):\n",
    "    tmp = pd.read_csv(input_csv, encoding=\"utf-8-sig\")\n",
    "    for col in [\"title\", \"description\"]:\n",
    "        if col in tmp.columns:\n",
    "            tmp[col] = tmp[col].map(excel_safe)\n",
    "    tmp.to_csv(output_csv, index=False, encoding=\"utf-8-sig\")\n",
    "    print(f\"تم إنشاء ملف آمن: {output_csv}\")"
   ]
  }
 ],
 "metadata": {
  "kernelspec": {
   "display_name": "base",
   "language": "python",
   "name": "python3"
  },
  "language_info": {
   "codemirror_mode": {
    "name": "ipython",
    "version": 3
   },
   "file_extension": ".py",
   "mimetype": "text/x-python",
   "name": "python",
   "nbconvert_exporter": "python",
   "pygments_lexer": "ipython3",
   "version": "3.13.5"
  }
 },
 "nbformat": 4,
 "nbformat_minor": 5
}
