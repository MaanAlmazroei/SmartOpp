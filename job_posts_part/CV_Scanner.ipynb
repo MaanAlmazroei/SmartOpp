{
 "cells": [
  {
   "cell_type": "markdown",
   "id": "4f903558",
   "metadata": {},
   "source": [
    "Imports & Dataset Loading"
   ]
  },
  {
   "cell_type": "code",
   "execution_count": 1,
   "id": "3d662650",
   "metadata": {},
   "outputs": [
    {
     "name": "stdout",
     "output_type": "stream",
     "text": [
      "Dataset Preview:\n",
      "                                         description category\n",
      "0  تعلن شركة تقنية معلومات عن توفر شاغر وظيفي بمس...       IT\n",
      "1  '- تصميم الشبكات (LAN, WAN, WLAN)\\n- ادارة اجه...       IT\n",
      "2  '- مطلوب رسام اوتوكاد للرسم وقراءة المخططات وح...       IT\n",
      "3  الوصف الوظيفي:\\n- تطوير وبناء تطبيقات موبايل م...       IT\n",
      "4  '- مطلوب مبرمج لديه خبرة في في Oracle APEX للع...       IT\n",
      "\n",
      "Category counts:\n",
      "category\n",
      "Marketing      99\n",
      "IT             98\n",
      "Finance        97\n",
      "Engineering    95\n",
      "Education      95\n",
      "Healthcare     93\n",
      "Name: count, dtype: int64\n"
     ]
    }
   ],
   "source": [
    "import pandas as pd\n",
    "import torch\n",
    "from sklearn.model_selection import train_test_split\n",
    "from transformers import AutoTokenizer, AutoModelForSequenceClassification, TrainingArguments, Trainer\n",
    "\n",
    "# Load the dataset you scraped\n",
    "df = pd.read_csv(\"wadhefa_dataset.csv\")\n",
    "\n",
    "# Drop unused column\n",
    "df = df[['description', 'category']]\n",
    "print(\"Dataset Preview:\")\n",
    "print(df.head())\n",
    "\n",
    "print(\"\\nCategory counts:\")\n",
    "print(df['category'].value_counts())\n"
   ]
  },
  {
   "cell_type": "markdown",
   "id": "289710f9",
   "metadata": {},
   "source": [
    "Encode Labels"
   ]
  },
  {
   "cell_type": "code",
   "execution_count": 2,
   "id": "5430321b",
   "metadata": {},
   "outputs": [
    {
     "name": "stdout",
     "output_type": "stream",
     "text": [
      "Label Mapping: {'IT': 0, 'Marketing': 1, 'Finance': 2, 'Engineering': 3, 'Healthcare': 4, 'Education': 5}\n"
     ]
    }
   ],
   "source": [
    "# Create label mapping\n",
    "label_list = df['category'].unique().tolist()\n",
    "label_to_id = {label: idx for idx, label in enumerate(label_list)}\n",
    "id_to_label = {idx: label for label, idx in label_to_id.items()}\n",
    "\n",
    "# Add numeric labels\n",
    "df['label'] = df['category'].map(label_to_id)\n",
    "\n",
    "print(\"Label Mapping:\", label_to_id)\n"
   ]
  },
  {
   "cell_type": "markdown",
   "id": "3e77c013",
   "metadata": {},
   "source": [
    "Train-Test Split"
   ]
  },
  {
   "cell_type": "code",
   "execution_count": 3,
   "id": "a4e9dad5",
   "metadata": {},
   "outputs": [
    {
     "name": "stdout",
     "output_type": "stream",
     "text": [
      "Training samples: 519\n",
      "Testing samples: 58\n"
     ]
    }
   ],
   "source": [
    "# Split the dataset\n",
    "train_texts, test_texts, train_labels, test_labels = train_test_split(\n",
    "    df['description'].tolist(),\n",
    "    df['label'].tolist(),\n",
    "    test_size=0.1,\n",
    "    random_state=42\n",
    ")\n",
    "\n",
    "print(f\"Training samples: {len(train_texts)}\")\n",
    "print(f\"Testing samples: {len(test_texts)}\")\n"
   ]
  },
  {
   "cell_type": "markdown",
   "id": "f6673ef9",
   "metadata": {},
   "source": [
    "Tokenization"
   ]
  },
  {
   "cell_type": "code",
   "execution_count": 4,
   "id": "945a610b",
   "metadata": {},
   "outputs": [],
   "source": [
    "# Use AraBERT tokenizer\n",
    "model_name = \"aubmindlab/bert-base-arabertv2\"\n",
    "tokenizer = AutoTokenizer.from_pretrained(model_name)\n",
    "\n",
    "train_encodings = tokenizer(train_texts, truncation=True, padding=True, max_length=128)\n",
    "test_encodings = tokenizer(test_texts, truncation=True, padding=True, max_length=128)\n"
   ]
  },
  {
   "cell_type": "markdown",
   "id": "cd7c84b1",
   "metadata": {},
   "source": [
    "Dataset Class"
   ]
  },
  {
   "cell_type": "code",
   "execution_count": 5,
   "id": "d4c61576",
   "metadata": {},
   "outputs": [],
   "source": [
    "class JobDataset(torch.utils.data.Dataset):\n",
    "    def __init__(self, encodings, labels):\n",
    "        self.encodings = encodings\n",
    "        self.labels = labels\n",
    "\n",
    "    def __getitem__(self, idx):\n",
    "        item = {key: torch.tensor(val[idx]) for key, val in self.encodings.items()}\n",
    "        item['labels'] = torch.tensor(self.labels[idx])\n",
    "        return item\n",
    "\n",
    "    def __len__(self):\n",
    "        return len(self.labels)\n",
    "\n",
    "train_dataset = JobDataset(train_encodings, train_labels)\n",
    "test_dataset = JobDataset(test_encodings, test_labels)\n"
   ]
  },
  {
   "cell_type": "markdown",
   "id": "3077d0c8",
   "metadata": {},
   "source": [
    "Model Setup"
   ]
  },
  {
   "cell_type": "code",
   "execution_count": 6,
   "id": "83ea3704",
   "metadata": {},
   "outputs": [
    {
     "name": "stderr",
     "output_type": "stream",
     "text": [
      "Some weights of BertForSequenceClassification were not initialized from the model checkpoint at aubmindlab/bert-base-arabertv2 and are newly initialized: ['classifier.bias', 'classifier.weight']\n",
      "You should probably TRAIN this model on a down-stream task to be able to use it for predictions and inference.\n"
     ]
    },
    {
     "name": "stdout",
     "output_type": "stream",
     "text": [
      "BertConfig {\n",
      "  \"architectures\": [\n",
      "    \"BertForMaskedLM\"\n",
      "  ],\n",
      "  \"attention_probs_dropout_prob\": 0.1,\n",
      "  \"classifier_dropout\": null,\n",
      "  \"dtype\": \"float32\",\n",
      "  \"hidden_act\": \"gelu\",\n",
      "  \"hidden_dropout_prob\": 0.1,\n",
      "  \"hidden_size\": 768,\n",
      "  \"id2label\": {\n",
      "    \"0\": \"LABEL_0\",\n",
      "    \"1\": \"LABEL_1\",\n",
      "    \"2\": \"LABEL_2\",\n",
      "    \"3\": \"LABEL_3\",\n",
      "    \"4\": \"LABEL_4\",\n",
      "    \"5\": \"LABEL_5\"\n",
      "  },\n",
      "  \"initializer_range\": 0.02,\n",
      "  \"intermediate_size\": 3072,\n",
      "  \"label2id\": {\n",
      "    \"LABEL_0\": 0,\n",
      "    \"LABEL_1\": 1,\n",
      "    \"LABEL_2\": 2,\n",
      "    \"LABEL_3\": 3,\n",
      "    \"LABEL_4\": 4,\n",
      "    \"LABEL_5\": 5\n",
      "  },\n",
      "  \"layer_norm_eps\": 1e-12,\n",
      "  \"max_position_embeddings\": 512,\n",
      "  \"model_type\": \"bert\",\n",
      "  \"num_attention_heads\": 12,\n",
      "  \"num_hidden_layers\": 12,\n",
      "  \"pad_token_id\": 0,\n",
      "  \"position_embedding_type\": \"absolute\",\n",
      "  \"transformers_version\": \"4.56.1\",\n",
      "  \"type_vocab_size\": 2,\n",
      "  \"use_cache\": true,\n",
      "  \"vocab_size\": 64000\n",
      "}\n",
      "\n"
     ]
    }
   ],
   "source": [
    "# Load pre-trained AraBERT with classification head\n",
    "model = AutoModelForSequenceClassification.from_pretrained(\n",
    "    model_name,\n",
    "    num_labels=len(label_list)\n",
    ")\n",
    "\n",
    "print(model.config)\n"
   ]
  },
  {
   "cell_type": "markdown",
   "id": "814f18f1",
   "metadata": {},
   "source": [
    "Training Arguments & Trainer"
   ]
  },
  {
   "cell_type": "code",
   "execution_count": 7,
   "id": "77630b62",
   "metadata": {},
   "outputs": [
    {
     "name": "stdout",
     "output_type": "stream",
     "text": [
      "Starting training...\n"
     ]
    },
    {
     "name": "stderr",
     "output_type": "stream",
     "text": [
      "C:\\Users\\maanx\\AppData\\Roaming\\Python\\Python313\\site-packages\\torch\\utils\\data\\dataloader.py:666: UserWarning: 'pin_memory' argument is set as true but no accelerator is found, then device pinned memory won't be used.\n",
      "  warnings.warn(warn_msg)\n"
     ]
    },
    {
     "data": {
      "text/html": [
       "\n",
       "    <div>\n",
       "      \n",
       "      <progress value='325' max='325' style='width:300px; height:20px; vertical-align: middle;'></progress>\n",
       "      [325/325 09:49, Epoch 5/5]\n",
       "    </div>\n",
       "    <table border=\"1\" class=\"dataframe\">\n",
       "  <thead>\n",
       " <tr style=\"text-align: left;\">\n",
       "      <th>Step</th>\n",
       "      <th>Training Loss</th>\n",
       "      <th>Validation Loss</th>\n",
       "    </tr>\n",
       "  </thead>\n",
       "  <tbody>\n",
       "    <tr>\n",
       "      <td>50</td>\n",
       "      <td>No log</td>\n",
       "      <td>1.116830</td>\n",
       "    </tr>\n",
       "    <tr>\n",
       "      <td>100</td>\n",
       "      <td>No log</td>\n",
       "      <td>0.866959</td>\n",
       "    </tr>\n",
       "    <tr>\n",
       "      <td>150</td>\n",
       "      <td>No log</td>\n",
       "      <td>0.662744</td>\n",
       "    </tr>\n",
       "    <tr>\n",
       "      <td>200</td>\n",
       "      <td>No log</td>\n",
       "      <td>0.619623</td>\n",
       "    </tr>\n",
       "    <tr>\n",
       "      <td>250</td>\n",
       "      <td>No log</td>\n",
       "      <td>0.665401</td>\n",
       "    </tr>\n",
       "    <tr>\n",
       "      <td>300</td>\n",
       "      <td>No log</td>\n",
       "      <td>0.696986</td>\n",
       "    </tr>\n",
       "  </tbody>\n",
       "</table><p>"
      ],
      "text/plain": [
       "<IPython.core.display.HTML object>"
      ]
     },
     "metadata": {},
     "output_type": "display_data"
    },
    {
     "name": "stdout",
     "output_type": "stream",
     "text": [
      "Training finished!\n"
     ]
    }
   ],
   "source": [
    "training_args = TrainingArguments(\n",
    "    output_dir='./job_results',\n",
    "    num_train_epochs=5,\n",
    "    per_device_train_batch_size=8,\n",
    "    per_device_eval_batch_size=16,\n",
    "    logging_dir='./job_logs',\n",
    "    eval_strategy=\"steps\",\n",
    "    eval_steps=50,\n",
    "    save_steps=500,\n",
    "    load_best_model_at_end=True\n",
    ")\n",
    "\n",
    "trainer = Trainer(\n",
    "    model=model,\n",
    "    args=training_args,\n",
    "    train_dataset=train_dataset,\n",
    "    eval_dataset=test_dataset\n",
    ")\n",
    "\n",
    "print(\"Starting training...\")\n",
    "trainer.train()\n",
    "print(\"Training finished!\")\n"
   ]
  },
  {
   "cell_type": "markdown",
   "id": "dac70800",
   "metadata": {},
   "source": [
    "Save Model"
   ]
  },
  {
   "cell_type": "code",
   "execution_count": 8,
   "id": "83318254",
   "metadata": {},
   "outputs": [
    {
     "name": "stdout",
     "output_type": "stream",
     "text": [
      "Job classifier model saved successfully!\n"
     ]
    }
   ],
   "source": [
    "# Save the trained classifier\n",
    "model.save_pretrained('./job_classifier')\n",
    "tokenizer.save_pretrained('./job_classifier')\n",
    "print(\"Job classifier model saved successfully!\")\n"
   ]
  },
  {
   "cell_type": "markdown",
   "id": "3f1e6860",
   "metadata": {},
   "source": [
    "Inference on New Job Posts"
   ]
  },
  {
   "cell_type": "code",
   "execution_count": 9,
   "id": "3ea1d9f9",
   "metadata": {},
   "outputs": [
    {
     "name": "stderr",
     "output_type": "stream",
     "text": [
      "Device set to use cpu\n"
     ]
    },
    {
     "name": "stdout",
     "output_type": "stream",
     "text": [
      "\n",
      "Predictions:\n",
      "Job: مطلوب مطور بايثون للعمل على تطبيقات ويب\n",
      "--> Predicted: IT (Confidence: 0.9579)\n",
      "\n",
      "Job: إدارة الحملات التسويقية عبر وسائل التواصل الاجتماعي\n",
      "--> Predicted: Marketing (Confidence: 0.9305)\n",
      "\n",
      "Job: وظيفة في قسم المحاسبة لمتابعة التقارير المالية\n",
      "--> Predicted: Finance (Confidence: 0.9437)\n",
      "\n"
     ]
    }
   ],
   "source": [
    "from transformers import pipeline\n",
    "\n",
    "# Load the trained pipeline\n",
    "classifier = pipeline('text-classification',\n",
    "                      model='./job_classifier',\n",
    "                      tokenizer='./job_classifier',\n",
    "                      function_to_apply='softmax')\n",
    "\n",
    "# Example job descriptions\n",
    "test_jobs = [\n",
    "    \"مطلوب مطور بايثون للعمل على تطبيقات ويب\",\n",
    "    \"إدارة الحملات التسويقية عبر وسائل التواصل الاجتماعي\",\n",
    "    \"وظيفة في قسم المحاسبة لمتابعة التقارير المالية\"\n",
    "]\n",
    "\n",
    "print(\"\\nPredictions:\")\n",
    "for job in test_jobs:\n",
    "    result = classifier(job)[0]\n",
    "    pred_label = id_to_label[int(result['label'].split('_')[-1])]\n",
    "    print(f\"Job: {job}\")\n",
    "    print(f\"--> Predicted: {pred_label} (Confidence: {result['score']:.4f})\\n\")\n"
   ]
  }
 ],
 "metadata": {
  "kernelspec": {
   "display_name": "base",
   "language": "python",
   "name": "python3"
  },
  "language_info": {
   "codemirror_mode": {
    "name": "ipython",
    "version": 3
   },
   "file_extension": ".py",
   "mimetype": "text/x-python",
   "name": "python",
   "nbconvert_exporter": "python",
   "pygments_lexer": "ipython3",
   "version": "3.13.5"
  }
 },
 "nbformat": 4,
 "nbformat_minor": 5
}
